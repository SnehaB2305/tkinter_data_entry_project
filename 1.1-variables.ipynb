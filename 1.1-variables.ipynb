{
 "cells": [
  {
   "cell_type": "markdown",
   "id": "4eaec9e8",
   "metadata": {},
   "source": [
    "Variable : Variables in Python are used to store data values. Unlike some other programming languages, Python does not require an explicit declaration of a variable's type. Instead, a variable is created the moment a value is assigned to it. Python automatically determines the variable's data type based on the value assigned. "
   ]
  },
  {
   "cell_type": "code",
   "execution_count": 3,
   "id": "183870b3",
   "metadata": {},
   "outputs": [],
   "source": [
    "a=100"
   ]
  },
  {
   "cell_type": "code",
   "execution_count": 9,
   "id": "e0bed8f0",
   "metadata": {},
   "outputs": [
    {
     "name": "stdout",
     "output_type": "stream",
     "text": [
      "age: 20\n",
      "name: sneha\n"
     ]
    }
   ],
   "source": [
    "##  declaring and assigning variable \n",
    "\n",
    "age=20\n",
    "height=5\n",
    "name=\"sneha\"\n",
    "is_student=True\n",
    "print(\"age:\",age)\n",
    "print(\"name:\",name)"
   ]
  },
  {
   "cell_type": "code",
   "execution_count": 24,
   "id": "c6247357",
   "metadata": {},
   "outputs": [
    {
     "name": "stdout",
     "output_type": "stream",
     "text": [
      "first_name: sneha\n",
      "last_name: bhosale\n"
     ]
    }
   ],
   "source": [
    "##naming convention \n",
    "##they must me _ and contain letter \n",
    "\n",
    "##valid variable name\n",
    "\n",
    "first_name=\"sneha\"\n",
    "last_name=\"bhosale\"\n",
    "print(\"first_name:\",first_name) ;print(\"last_name:\",last_name)"
   ]
  },
  {
   "cell_type": "code",
   "execution_count": 25,
   "id": "d238f2f8",
   "metadata": {},
   "outputs": [
    {
     "name": "stdout",
     "output_type": "stream",
     "text": [
      "<class 'str'>\n"
     ]
    }
   ],
   "source": [
    "##understanding variable\n",
    "age=20\n",
    "height='5'\n",
    "print(type(name))"
   ]
  },
  {
   "cell_type": "code",
   "execution_count": 27,
   "id": "ec43d5f2",
   "metadata": {},
   "outputs": [
    {
     "data": {
      "text/plain": [
       "str"
      ]
     },
     "execution_count": 27,
     "metadata": {},
     "output_type": "execute_result"
    }
   ],
   "source": [
    "##type\n",
    "type(height)"
   ]
  },
  {
   "cell_type": "code",
   "execution_count": 30,
   "id": "21f49c8d",
   "metadata": {},
   "outputs": [
    {
     "name": "stdout",
     "output_type": "stream",
     "text": [
      "<class 'int'>\n",
      "20\n",
      "<class 'str'>\n"
     ]
    }
   ],
   "source": [
    "age=20\n",
    "print(type(age))\n",
    "#type conversiion\n",
    "age_str=str(age)\n",
    "print(age_str)\n",
    "print(type(age_str))      "
   ]
  },
  {
   "cell_type": "code",
   "execution_count": 31,
   "id": "d9d3591e",
   "metadata": {},
   "outputs": [
    {
     "name": "stdout",
     "output_type": "stream",
     "text": [
      "<class 'int'>\n"
     ]
    }
   ],
   "source": [
    "age='25'\n",
    "print(type(int(age)))"
   ]
  },
  {
   "cell_type": "code",
   "execution_count": 32,
   "id": "bbb1dab9",
   "metadata": {},
   "outputs": [
    {
     "data": {
      "text/plain": [
       "float"
      ]
     },
     "execution_count": 32,
     "metadata": {},
     "output_type": "execute_result"
    }
   ],
   "source": [
    "height=5.11\n",
    "type(height)"
   ]
  },
  {
   "cell_type": "code",
   "execution_count": 34,
   "id": "2918a843",
   "metadata": {},
   "outputs": [
    {
     "data": {
      "text/plain": [
       "5.0"
      ]
     },
     "execution_count": 34,
     "metadata": {},
     "output_type": "execute_result"
    }
   ],
   "source": [
    "float(int(height))"
   ]
  },
  {
   "cell_type": "code",
   "execution_count": 37,
   "id": "13d1f867",
   "metadata": {},
   "outputs": [
    {
     "name": "stdout",
     "output_type": "stream",
     "text": [
      "10 <class 'int'>\n",
      "3.14 <class 'float'>\n"
     ]
    }
   ],
   "source": [
    "##dynamic typing\n",
    "# python allow the type of a variable to change as the program execute \n",
    "var=10\n",
    "print(var,type(var))\n",
    "var=3.14\n",
    "print(var,type(var))"
   ]
  },
  {
   "cell_type": "code",
   "execution_count": null,
   "id": "9571b1b9",
   "metadata": {},
   "outputs": [
    {
     "name": "stdout",
     "output_type": "stream",
     "text": [
      "20\n"
     ]
    }
   ],
   "source": [
    "##input\n",
    "age=input(\"what is the age\")\n",
    "\n",
    "\n",
    "\n",
    "print(age)"
   ]
  },
  {
   "cell_type": "code",
   "execution_count": 44,
   "id": "a2137d7a",
   "metadata": {},
   "outputs": [
    {
     "name": "stdout",
     "output_type": "stream",
     "text": [
      "sum: 45.0\n",
      "difference: -1.0\n",
      "product: 506.0\n"
     ]
    }
   ],
   "source": [
    "##simple calculator\n",
    "num1=float(input(\"enter first number: \"))\n",
    "num2=float(input(\"enter second number: \"))\n",
    "\n",
    "sum= num1+num2\n",
    "difference= num1-num2\n",
    "product = num1*num2\n",
    "\n",
    "print(\"sum:\",sum)\n",
    "print(\"difference:\",difference)\n",
    "print(\"product:\",product)\n",
    "\n",
    "\n"
   ]
  }
 ],
 "metadata": {
  "kernelspec": {
   "display_name": "base",
   "language": "python",
   "name": "python3"
  },
  "language_info": {
   "codemirror_mode": {
    "name": "ipython",
    "version": 3
   },
   "file_extension": ".py",
   "mimetype": "text/x-python",
   "name": "python",
   "nbconvert_exporter": "python",
   "pygments_lexer": "ipython3",
   "version": "3.12.7"
  }
 },
 "nbformat": 4,
 "nbformat_minor": 5
}
