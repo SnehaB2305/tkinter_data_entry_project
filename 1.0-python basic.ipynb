{
 "cells": [
  {
   "cell_type": "code",
   "execution_count": null,
   "id": "e0b6b307",
   "metadata": {},
   "outputs": [],
   "source": [
    "Syntax refer to the set of rule that define the combination of symbol that are considered to be correctly \n",
    "structured program in a language . In simpler is about the correct arrangement of words and symbols in code."
   ]
  },
  {
   "cell_type": "code",
   "execution_count": null,
   "id": "a8482fb7",
   "metadata": {},
   "outputs": [],
   "source": [
    "Sematics refer to the meaning or the interpretation of the symbol,charaters,and command in a language. \n",
    "It about what the code is supposed to do when it run \n"
   ]
  },
  {
   "cell_type": "code",
   "execution_count": 2,
   "id": "38c52447",
   "metadata": {},
   "outputs": [
    {
     "name": "stdout",
     "output_type": "stream",
     "text": [
      "sneha\n",
      "bhosale\n"
     ]
    }
   ],
   "source": [
    "# syntax rule in python\n",
    "## case sensitivity-python is case sensitive\n",
    "## it is a example of single comments\n",
    "\n",
    "\n",
    "\n",
    "\n",
    "name=\"sneha\"\n",
    "Name=\"bhosale\"\n",
    "\n",
    "print(name)\n",
    "print(Name)"
   ]
  },
  {
   "cell_type": "code",
   "execution_count": null,
   "id": "33611c3e",
   "metadata": {
    "vscode": {
     "languageId": "latex"
    }
   },
   "outputs": [],
   "source": [
    "Indentation in Python refers to the whitespace (spaces or tabs) at the beginning of a code line. It is a fundamental part of the \n",
    "language's syntax and not just a matter of style. Unlike other programming languages that use braces or keywords to define code blocks\n",
    ", Python uses indentation to indicate the structure of the code. "
   ]
  },
  {
   "cell_type": "code",
   "execution_count": 5,
   "id": "deaca0ca",
   "metadata": {},
   "outputs": [
    {
     "name": "stdout",
     "output_type": "stream",
     "text": [
      "20\n",
      "20\n"
     ]
    }
   ],
   "source": [
    "##indentation \n",
    "## python uses indentation to define block of code\n",
    "\n",
    "age=20\n",
    "if age>19:\n",
    "    print(age)\n",
    "\n",
    "    print(age)"
   ]
  },
  {
   "cell_type": "code",
   "execution_count": 6,
   "id": "4c1b9cd3",
   "metadata": {},
   "outputs": [
    {
     "name": "stdout",
     "output_type": "stream",
     "text": [
      "HELLO\n"
     ]
    }
   ],
   "source": [
    "##single line comment\n",
    "print(\"HELLO\")"
   ]
  },
  {
   "cell_type": "code",
   "execution_count": 7,
   "id": "d3534f76",
   "metadata": {},
   "outputs": [
    {
     "name": "stdout",
     "output_type": "stream",
     "text": [
      "30\n"
     ]
    }
   ],
   "source": [
    "##LINE CONTINUATION \n",
    "\n",
    "total=1+2+3+4+5+\\\n",
    "4+5+6\n",
    "print(total)"
   ]
  },
  {
   "cell_type": "code",
   "execution_count": 8,
   "id": "a39dca3b",
   "metadata": {},
   "outputs": [
    {
     "name": "stdout",
     "output_type": "stream",
     "text": [
      "7\n"
     ]
    }
   ],
   "source": [
    "##multiple statement in single line \n",
    "x=3;y=4;z=x+y\n",
    "print(z)"
   ]
  },
  {
   "cell_type": "code",
   "execution_count": 9,
   "id": "b3711813",
   "metadata": {},
   "outputs": [],
   "source": [
    "##understanding \n",
    "age=32\n",
    "name=\"sneha\""
   ]
  },
  {
   "cell_type": "code",
   "execution_count": 10,
   "id": "258226b0",
   "metadata": {},
   "outputs": [
    {
     "data": {
      "text/plain": [
       "int"
      ]
     },
     "execution_count": 10,
     "metadata": {},
     "output_type": "execute_result"
    }
   ],
   "source": [
    "type(age)"
   ]
  },
  {
   "cell_type": "code",
   "execution_count": 11,
   "id": "2a6f6244",
   "metadata": {},
   "outputs": [
    {
     "data": {
      "text/plain": [
       "str"
      ]
     },
     "execution_count": 11,
     "metadata": {},
     "output_type": "execute_result"
    }
   ],
   "source": [
    "type(name)"
   ]
  },
  {
   "cell_type": "code",
   "execution_count": 13,
   "id": "4a1756c5",
   "metadata": {},
   "outputs": [
    {
     "name": "stdout",
     "output_type": "stream",
     "text": [
      "<class 'int'>\n",
      "<class 'str'>\n"
     ]
    }
   ],
   "source": [
    "#type inference\n",
    "variable=10\n",
    "print(type(variable))\n",
    "variable=\"sneha\"\n",
    "print(type(variable))"
   ]
  },
  {
   "cell_type": "code",
   "execution_count": 16,
   "id": "bcce6c1b",
   "metadata": {},
   "outputs": [
    {
     "name": "stdout",
     "output_type": "stream",
     "text": [
      "32\n"
     ]
    }
   ],
   "source": [
    "age=32\n",
    "if age>30:\n",
    "    print(age)\n"
   ]
  },
  {
   "cell_type": "code",
   "execution_count": null,
   "id": "4e61b275",
   "metadata": {},
   "outputs": [],
   "source": [
    "##code example of indentation\n",
    "if True:\n",
    "    print(\"correct indentation\")\n",
    "    if False:\n",
    "        print(\"this is ont print\")\n",
    "        print(\"this will print\")"
   ]
  }
 ],
 "metadata": {
  "kernelspec": {
   "display_name": "base",
   "language": "python",
   "name": "python3"
  },
  "language_info": {
   "codemirror_mode": {
    "name": "ipython",
    "version": 3
   },
   "file_extension": ".py",
   "mimetype": "text/x-python",
   "name": "python",
   "nbconvert_exporter": "python",
   "pygments_lexer": "ipython3",
   "version": "3.12.7"
  }
 },
 "nbformat": 4,
 "nbformat_minor": 5
}
