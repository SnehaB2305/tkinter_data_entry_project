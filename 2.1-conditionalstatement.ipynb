{
 "cells": [
  {
   "cell_type": "markdown",
   "id": "f200f060",
   "metadata": {},
   "source": [
    "Conditional Statements (if, elif, else)\n",
    "\n",
    "\n",
    "Video Outline:\n",
    "1. Introduction to Conditional Statements\n",
    "2. if Statement\n",
    "3. else Statement\n",
    "4. elif Statement\n",
    "5. Nested Conditional Statements\n",
    "6. Practical Examples\n",
    "7. Common Errors and Best Practices"
   ]
  },
  {
   "cell_type": "code",
   "execution_count": 1,
   "id": "299e1542",
   "metadata": {},
   "outputs": [
    {
     "name": "stdout",
     "output_type": "stream",
     "text": [
      "you are allowed to vote in election \n"
     ]
    }
   ],
   "source": [
    "##if statement \n",
    "age=20\n",
    "if age>=18:\n",
    "    print(\"you are allowed to vote in election \")"
   ]
  },
  {
   "cell_type": "code",
   "execution_count": 2,
   "id": "956e035a",
   "metadata": {},
   "outputs": [
    {
     "data": {
      "text/plain": [
       "True"
      ]
     },
     "execution_count": 2,
     "metadata": {},
     "output_type": "execute_result"
    }
   ],
   "source": [
    "age>=18"
   ]
  },
  {
   "cell_type": "code",
   "execution_count": null,
   "id": "f910cdd6",
   "metadata": {},
   "outputs": [
    {
     "name": "stdout",
     "output_type": "stream",
     "text": [
      "you are a minor\n"
     ]
    }
   ],
   "source": [
    "## else\n",
    "##the else statement execute a bloack of code if the condition in the if statement is false\n",
    "\n",
    "age=16\n",
    "if age>=18:\n",
    "    print(\"you are eligible for voting\")\n",
    "else:\n",
    "    print(\"you are a minor\")\n"
   ]
  },
  {
   "cell_type": "code",
   "execution_count": 7,
   "id": "26c21a92",
   "metadata": {},
   "outputs": [
    {
     "name": "stdout",
     "output_type": "stream",
     "text": [
      "you are a teenager\n"
     ]
    }
   ],
   "source": [
    "##elif\n",
    "## the elif statement allow to check multiple condition . it stand for \"elif\"\n",
    "\n",
    "age=17\n",
    "\n",
    "\n",
    "if age<13:\n",
    "    print (\"you are a chid \")\n",
    "elif age<18:\n",
    "    print(\"you are a teenager\")\n",
    "else:\n",
    "    print(\"you are an adult \")\n",
    "\n",
    "\n"
   ]
  },
  {
   "cell_type": "code",
   "execution_count": 11,
   "id": "b1ff4e6d",
   "metadata": {},
   "outputs": [
    {
     "name": "stdout",
     "output_type": "stream",
     "text": [
      "the number is  zero or negative\n"
     ]
    }
   ],
   "source": [
    "##nested conditional statement\n",
    "# you can place one or more if,elif,or else statement inside another if, elif,else statement  to create nested conditioanl statement \n",
    "\n",
    "## number even ,odd, negative \n",
    "num=int(input(\"enter the number\"))\n",
    "if num>=0:\n",
    "    print(\"the number is positive\")\n",
    "    if num%2==0:\n",
    "     print(\"number is even\")\n",
    "    else:\n",
    "       print(\"THE NUMBER IS ODD\")\n",
    "else:\n",
    "   print(\"the number is  zero or negative\")\n"
   ]
  },
  {
   "cell_type": "code",
   "execution_count": 13,
   "id": "3fd8742b",
   "metadata": {},
   "outputs": [
    {
     "name": "stdout",
     "output_type": "stream",
     "text": [
      "2024 is a leap year\n"
     ]
    }
   ],
   "source": [
    "## pratical example \n",
    "##dtermine if a leap year using nested condition statement \n",
    "year=int(input(\"enter the year\"))\n",
    "if year%4==0:\n",
    "    if year%100==0:\n",
    "        if year%400==0:\n",
    "            print(year,\"is a leap year\")\n",
    "        else:\n",
    "            print(year , \"is not a leap year\")\n",
    "    else:\n",
    "        print(year,\"is a leap year\")\n",
    "else:\n",
    "    print(year,\"is not a leap year\")\n",
    "    \n",
    "\n",
    "\n",
    "\n",
    "\n",
    "\n",
    "\n"
   ]
  },
  {
   "cell_type": "code",
   "execution_count": 19,
   "id": "118e72ec",
   "metadata": {},
   "outputs": [
    {
     "name": "stdout",
     "output_type": "stream",
     "text": [
      "Result: 30.0\n"
     ]
    }
   ],
   "source": [
    "## Assignment\n",
    "## Simple Calculator program\n",
    "#Take user input\n",
    "\n",
    "'''\n",
    "num1 = float(input(\"Enter first number: \"))\n",
    "num2 = float(input(\"Enter second number: \"))\n",
    "operation = input(\"Enter operation (+,-,*,/): \")\n",
    "# Perform the requested operation\n",
    "if operation == '+':\n",
    "    result= num1+num2\n",
    "elif operation =='-':\n",
    "    result= num1-num2\n",
    "elif operation =='*':\n",
    "    result=num1*num2\n",
    "elif operation =='/':\n",
    "    if num2 !=0:\n",
    "        result= num1 /num2\n",
    "    else:\n",
    "        result = \"error! division by zero.\"\n",
    "else:\n",
    "    result=\"invalid operation \"\n",
    "    print(\"Rsult:\",result)\n",
    "    '''\n",
    "\n",
    "        ## Assignment\n",
    "## Simple Calculator program\n",
    "\n",
    "# Take user input\n",
    "num1 = float(input(\"Enter first number: \"))\n",
    "num2 = float(input(\"Enter second number: \"))\n",
    "operation = input(\"Enter operation (+, -, *, /): \")\n",
    "\n",
    "# Perform the requested operation\n",
    "if operation == '+':\n",
    "    result = num1 + num2\n",
    "elif operation == '-':\n",
    "    result = num1 - num2\n",
    "elif operation == '*':\n",
    "    result = num1 * num2\n",
    "elif operation == '/':\n",
    "    if num2 != 0:\n",
    "        result = num1 / num2\n",
    "    else:\n",
    "        result = \"Error! Division by zero.\"\n",
    "else:\n",
    "    result = \"Invalid operation\"\n",
    "\n",
    "# Display the result\n",
    "print(\"Result:\", result)\n",
    "\n",
    "                \n",
    "\n",
    " \n",
    "\n",
    "                  \n"
   ]
  },
  {
   "cell_type": "code",
   "execution_count": 20,
   "id": "56c41c2e",
   "metadata": {},
   "outputs": [
    {
     "name": "stdout",
     "output_type": "stream",
     "text": [
      "Ticket price: $18\n"
     ]
    }
   ],
   "source": [
    "# Determine the ticket price based on age and whether the person is a student\n",
    "\n",
    "# Take user input\n",
    "age = int(input(\"Enter your age: \"))\n",
    "is_student = input(\"Are you a student? (yes/no): \").lower()\n",
    "\n",
    "# Determine ticket price\n",
    "if age < 5:\n",
    "    price = \"Free\"\n",
    "elif age <= 12:\n",
    "    price = \"$10\"\n",
    "elif age <= 17:\n",
    "    if is_student == 'yes':\n",
    "        price = \"$12\"\n",
    "    else:\n",
    "        price = \"$15\"\n",
    "elif age <= 64:\n",
    "    if is_student == 'yes':\n",
    "        price = \"$18\"\n",
    "    else:\n",
    "        price = \"$20\"\n",
    "else:\n",
    "    price = \"$15\"\n",
    "\n",
    "# Display result\n",
    "print(\"Ticket price:\", price)\n"
   ]
  }
 ],
 "metadata": {
  "kernelspec": {
   "display_name": "base",
   "language": "python",
   "name": "python3"
  },
  "language_info": {
   "codemirror_mode": {
    "name": "ipython",
    "version": 3
   },
   "file_extension": ".py",
   "mimetype": "text/x-python",
   "name": "python",
   "nbconvert_exporter": "python",
   "pygments_lexer": "ipython3",
   "version": "3.12.7"
  }
 },
 "nbformat": 4,
 "nbformat_minor": 5
}
