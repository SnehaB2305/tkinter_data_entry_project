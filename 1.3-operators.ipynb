{
 "cells": [
  {
   "cell_type": "code",
   "execution_count": 6,
   "id": "7a18fe48",
   "metadata": {},
   "outputs": [
    {
     "name": "stdout",
     "output_type": "stream",
     "text": [
      "15\n",
      "5\n",
      "50\n",
      "2\n",
      "0\n",
      "100000\n"
     ]
    }
   ],
   "source": [
    "##arithemetic operation \n",
    "a=10\n",
    "b=5\n",
    "add=a+b\n",
    "sub=a-b\n",
    "mult=a*b\n",
    "floor_div_result=a//b ##floor division\n",
    "modulus=a%b\n",
    "exponent=a**b\n",
    "\n",
    "\n",
    "print(add)\n",
    "print(sub)\n",
    "print(mult)\n",
    "print(floor_div_result)\n",
    "print(modulus)\n",
    "print(exponent)"
   ]
  },
  {
   "cell_type": "code",
   "execution_count": 7,
   "id": "b11bce84",
   "metadata": {},
   "outputs": [
    {
     "data": {
      "text/plain": [
       "4.2"
      ]
     },
     "execution_count": 7,
     "metadata": {},
     "output_type": "execute_result"
    }
   ],
   "source": [
    "21/5\n"
   ]
  },
  {
   "cell_type": "code",
   "execution_count": 8,
   "id": "47af7f5c",
   "metadata": {},
   "outputs": [
    {
     "data": {
      "text/plain": [
       "4"
      ]
     },
     "execution_count": 8,
     "metadata": {},
     "output_type": "execute_result"
    }
   ],
   "source": [
    "21//5"
   ]
  },
  {
   "cell_type": "code",
   "execution_count": null,
   "id": "5c9311e9",
   "metadata": {},
   "outputs": [
    {
     "data": {
      "text/plain": [
       "True"
      ]
     },
     "execution_count": 10,
     "metadata": {},
     "output_type": "execute_result"
    }
   ],
   "source": [
    "##comparision \n",
    "## == operators\n",
    "a=10\n",
    "b=10\n",
    "a==b"
   ]
  },
  {
   "cell_type": "code",
   "execution_count": 13,
   "id": "5280a5f9",
   "metadata": {},
   "outputs": [
    {
     "data": {
      "text/plain": [
       "True"
      ]
     },
     "execution_count": 13,
     "metadata": {},
     "output_type": "execute_result"
    }
   ],
   "source": [
    "## not equal to!=\n",
    "str1=\"sneha\"\n",
    "str2=\"Sneha\"\n",
    "str1!=str2"
   ]
  },
  {
   "cell_type": "code",
   "execution_count": null,
   "id": "f5f14419",
   "metadata": {},
   "outputs": [
    {
     "data": {
      "text/plain": [
       "False"
      ]
     },
     "execution_count": 14,
     "metadata": {},
     "output_type": "execute_result"
    }
   ],
   "source": [
    "##less than /greater than\n",
    "\n",
    "a=45\n",
    "b=46\n",
    "a>b"
   ]
  },
  {
   "cell_type": "code",
   "execution_count": 16,
   "id": "8684356f",
   "metadata": {},
   "outputs": [
    {
     "name": "stdout",
     "output_type": "stream",
     "text": [
      "True\n"
     ]
    }
   ],
   "source": [
    "##greater thann 0r equal to\n",
    "a=35\n",
    "b=35\n",
    "print(a>=b)\n"
   ]
  },
  {
   "cell_type": "code",
   "execution_count": 23,
   "id": "93c62d5a",
   "metadata": {},
   "outputs": [
    {
     "name": "stdout",
     "output_type": "stream",
     "text": [
      "False\n"
     ]
    }
   ],
   "source": [
    "### logical operator and ,or,not\n",
    "\n",
    "x=True\n",
    "y=False\n",
    "RESULT=x and y \n",
    "print(RESULT)\n"
   ]
  },
  {
   "cell_type": "code",
   "execution_count": 22,
   "id": "77428b9e",
   "metadata": {},
   "outputs": [
    {
     "name": "stdout",
     "output_type": "stream",
     "text": [
      "True\n"
     ]
    }
   ],
   "source": [
    "x=True\n",
    "y=False\n",
    "RESULT=x or y \n",
    "print(RESULT)"
   ]
  },
  {
   "cell_type": "code",
   "execution_count": 27,
   "id": "9569ec70",
   "metadata": {},
   "outputs": [
    {
     "name": "stdout",
     "output_type": "stream",
     "text": [
      "False\n"
     ]
    }
   ],
   "source": [
    "x=True\n",
    "\n",
    "RESULT=not x\n",
    "print(RESULT)"
   ]
  },
  {
   "cell_type": "code",
   "execution_count": 34,
   "id": "fd1ea120",
   "metadata": {},
   "outputs": [
    {
     "name": "stdout",
     "output_type": "stream",
     "text": [
      "Addition: 15.0\n",
      "Subtraction: 5.0\n",
      "Division: 2.0\n",
      "Multiplication: 50.0\n",
      "Floor Division: 2.0\n",
      "Modulus: 0.0\n",
      "Exponentiation: 50.0\n"
     ]
    }
   ],
   "source": [
    "## Simple Calculator\n",
    "# Simple calculator\n",
    "num1 = float(input(\"Enter first number: \"))\n",
    "num2= float(input(\"Enter second number: \"))\n",
    "# Performing arithmetic operations\n",
    "addition= num1 + num2\n",
    "subtraction = num1- num2\n",
    "multiplication = num1 * num2\n",
    "division = num1 / num2\n",
    "Floor_division = num1 // num2\n",
    "modulus = num1 % num2\n",
    "exponentiation = num1* num2\n",
    "# Displaying results\n",
    "print(\"Addition:\", addition)\n",
    "print(\"Subtraction:\", subtraction)\n",
    "print(\"Division:\", division)\n",
    "print(\"Multiplication:\", multiplication)\n",
    "print(\"Floor Division:\", Floor_division)\n",
    "print(\"Modulus:\", modulus)\n",
    "print(\"Exponentiation:\", exponentiation)"
   ]
  }
 ],
 "metadata": {
  "kernelspec": {
   "display_name": "base",
   "language": "python",
   "name": "python3"
  },
  "language_info": {
   "codemirror_mode": {
    "name": "ipython",
    "version": 3
   },
   "file_extension": ".py",
   "mimetype": "text/x-python",
   "name": "python",
   "nbconvert_exporter": "python",
   "pygments_lexer": "ipython3",
   "version": "3.12.7"
  }
 },
 "nbformat": 4,
 "nbformat_minor": 5
}
